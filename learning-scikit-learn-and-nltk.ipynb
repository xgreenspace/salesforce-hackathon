{
 "metadata": {
  "language_info": {
   "codemirror_mode": {
    "name": "ipython",
    "version": 3
   },
   "file_extension": ".py",
   "mimetype": "text/x-python",
   "name": "python",
   "nbconvert_exporter": "python",
   "pygments_lexer": "ipython3",
   "version": "3.7.4-final"
  },
  "orig_nbformat": 2,
  "kernelspec": {
   "name": "python3",
   "display_name": "Python 3"
  }
 },
 "nbformat": 4,
 "nbformat_minor": 2,
 "cells": [
  {
   "cell_type": "markdown",
   "metadata": {},
   "source": [
    "# NLTK Tutorial"
   ]
  },
  {
   "cell_type": "code",
   "execution_count": 2,
   "metadata": {
    "tags": []
   },
   "outputs": [],
   "source": [
    "from nltk.tokenize import sent_tokenize, word_tokenize"
   ]
  },
  {
   "cell_type": "markdown",
   "metadata": {},
   "source": [
    "### Key Words\n",
    "\n",
    "* Tokenizing - word tockenizers... sentence tockenizers\n",
    "* lexicon and corporas\n",
    "* corporas - body of text. ex: medical journals, presidential speeches, English language\n",
    "* lexicon - words and their means\n",
    "\n",
    "* investor-speak... regular english-speak\n",
    "\n",
    "* investor speak 'bull' = someone who is positive about the market\n",
    "* english-speak 'bull' = scary animal that you dont want running at you\n",
    "\n",
    "* stop words - filler words that are removed."
   ]
  },
  {
   "cell_type": "code",
   "execution_count": 3,
   "metadata": {
    "tags": []
   },
   "outputs": [
    {
     "output_type": "stream",
     "name": "stdout",
     "text": "['We need to get done with this project as soon as possible.', \"The project is due tonight, and I am not sure if I'll be able to finish all of the parts.\", 'I am just going to try and complete what I can.']\n['We', 'need', 'to', 'get', 'done', 'with', 'this', 'project', 'as', 'soon', 'as', 'possible', '.', 'The', 'project', 'is', 'due', 'tonight', ',', 'and', 'I', 'am', 'not', 'sure', 'if', 'I', \"'ll\", 'be', 'able', 'to', 'finish', 'all', 'of', 'the', 'parts', '.', 'I', 'am', 'just', 'going', 'to', 'try', 'and', 'complete', 'what', 'I', 'can', '.']\n"
    }
   ],
   "source": [
    "example_text = \"We need to get done with this project as soon as possible. The project is due tonight, and I am not sure if I'll be able to finish all of the parts. I am just going to try and complete what I can.\"\n",
    "\n",
    "# Tokenize by sentences\n",
    "print(sent_tokenize(example_text))\n",
    "\n",
    "# Tokenize by words\n",
    "print(word_tokenize(example_text))"
   ]
  },
  {
   "cell_type": "code",
   "execution_count": 4,
   "metadata": {
    "tags": []
   },
   "outputs": [
    {
     "output_type": "stream",
     "name": "stdout",
     "text": "Starting Sentence: This is an example showing off stop word filtration.\nModified Sentence: This example showing stop word filtration .\n"
    }
   ],
   "source": [
    "from nltk.corpus import stopwords\n",
    "\n",
    "example_sentence = \"This is an example showing off stop word filtration.\"\n",
    "stop_words = set(stopwords.words('english'))\n",
    "\n",
    "words = word_tokenize(example_sentence)\n",
    "filtered_sentence = []\n",
    "\n",
    "for w in words:\n",
    "    if w not in stop_words:\n",
    "        filtered_sentence.append(w)\n",
    "\n",
    "print('Starting Sentence:', example_sentence)\n",
    "print('Modified Sentence:', ' '.join(filtered_sentence))"
   ]
  },
  {
   "cell_type": "markdown",
   "metadata": {},
   "source": [
    "### Finding the stem word"
   ]
  },
  {
   "cell_type": "code",
   "execution_count": 5,
   "metadata": {
    "tags": []
   },
   "outputs": [
    {
     "output_type": "stream",
     "name": "stdout",
     "text": "python\npython\npython\npython\npythonli\n"
    }
   ],
   "source": [
    "from nltk.stem import PorterStemmer\n",
    "\n",
    "ps = PorterStemmer()\n",
    "\n",
    "example_words = ['python', 'pythoner', 'pythoning', 'pythoned', 'pythonly']\n",
    "\n",
    "for w in example_words:\n",
    "    print(ps.stem(w))"
   ]
  },
  {
   "cell_type": "code",
   "execution_count": 7,
   "metadata": {
    "tags": []
   },
   "outputs": [
    {
     "output_type": "stream",
     "name": "stdout",
     "text": "It\nis\nveri\nimport\nto\nbe\npythonli\nwhile\nyou\nare\npython\nwith\npython\n.\nall\npython\nhave\npython\npoorli\nat\nleast\nonc\n.\n"
    }
   ],
   "source": [
    "new_text = \"It is very important to be pythonly while you are pythoning with python. All pythoners have pythoned poorly at least once.\"\n",
    "words = word_tokenize(new_text)\n",
    "\n",
    "for w in words:\n",
    "    print(ps.stem(w))"
   ]
  },
  {
   "cell_type": "markdown",
   "metadata": {},
   "source": []
  },
  {
   "cell_type": "code",
   "execution_count": null,
   "metadata": {},
   "outputs": [],
   "source": [
    "import nltk\n",
    "from nltk.corpus import state_union\n",
    "from nltk.tokenize import PunktSentenceTokenizer\n",
    "\n",
    "sample_text = state_union.raw(\"2006-GWBush.txt\")\n",
    "custom_sent_tokenizer = PunktSentenceTokenizer(sample_text)"
   ]
  }
 ]
}